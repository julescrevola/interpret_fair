{
 "cells": [
  {
   "cell_type": "markdown",
   "metadata": {},
   "source": [
    "### Import the data"
   ]
  },
  {
   "cell_type": "code",
   "execution_count": 1,
   "metadata": {},
   "outputs": [
    {
     "data": {
      "text/plain": [
       "(7430, 15)"
      ]
     },
     "execution_count": 1,
     "metadata": {},
     "output_type": "execute_result"
    }
   ],
   "source": [
    "#Import libraries\n",
    "import pandas as pd \n",
    "\n",
    "#Read data\n",
    "data = pd.read_excel(\"../Data/dataproject2024.xlsx\")\n",
    "data.shape"
   ]
  },
  {
   "cell_type": "code",
   "execution_count": 2,
   "metadata": {},
   "outputs": [
    {
     "data": {
      "text/html": [
       "<div>\n",
       "<style scoped>\n",
       "    .dataframe tbody tr th:only-of-type {\n",
       "        vertical-align: middle;\n",
       "    }\n",
       "\n",
       "    .dataframe tbody tr th {\n",
       "        vertical-align: top;\n",
       "    }\n",
       "\n",
       "    .dataframe thead th {\n",
       "        text-align: right;\n",
       "    }\n",
       "</style>\n",
       "<table border=\"1\" class=\"dataframe\">\n",
       "  <thead>\n",
       "    <tr style=\"text-align: right;\">\n",
       "      <th></th>\n",
       "      <th>ID</th>\n",
       "      <th>Job tenure</th>\n",
       "      <th>Age</th>\n",
       "      <th>Car price</th>\n",
       "      <th>Funding amount</th>\n",
       "      <th>Down payment</th>\n",
       "      <th>Loan duration</th>\n",
       "      <th>Monthly payment</th>\n",
       "      <th>Credit event</th>\n",
       "      <th>Married</th>\n",
       "      <th>Homeowner</th>\n",
       "      <th>Default (y)</th>\n",
       "      <th>Pred_default (y_hat)</th>\n",
       "      <th>PD</th>\n",
       "      <th>Group</th>\n",
       "    </tr>\n",
       "  </thead>\n",
       "  <tbody>\n",
       "    <tr>\n",
       "      <th>0</th>\n",
       "      <td>1</td>\n",
       "      <td>34</td>\n",
       "      <td>55</td>\n",
       "      <td>4875</td>\n",
       "      <td>3087</td>\n",
       "      <td>0</td>\n",
       "      <td>36</td>\n",
       "      <td>0.047895</td>\n",
       "      <td>0</td>\n",
       "      <td>1</td>\n",
       "      <td>1</td>\n",
       "      <td>0</td>\n",
       "      <td>0</td>\n",
       "      <td>0.024480</td>\n",
       "      <td>1</td>\n",
       "    </tr>\n",
       "    <tr>\n",
       "      <th>1</th>\n",
       "      <td>2</td>\n",
       "      <td>5</td>\n",
       "      <td>29</td>\n",
       "      <td>13000</td>\n",
       "      <td>13000</td>\n",
       "      <td>0</td>\n",
       "      <td>60</td>\n",
       "      <td>0.091667</td>\n",
       "      <td>0</td>\n",
       "      <td>0</td>\n",
       "      <td>0</td>\n",
       "      <td>1</td>\n",
       "      <td>0</td>\n",
       "      <td>0.331661</td>\n",
       "      <td>0</td>\n",
       "    </tr>\n",
       "    <tr>\n",
       "      <th>2</th>\n",
       "      <td>3</td>\n",
       "      <td>14</td>\n",
       "      <td>38</td>\n",
       "      <td>17190</td>\n",
       "      <td>14190</td>\n",
       "      <td>0</td>\n",
       "      <td>60</td>\n",
       "      <td>0.088235</td>\n",
       "      <td>0</td>\n",
       "      <td>0</td>\n",
       "      <td>0</td>\n",
       "      <td>0</td>\n",
       "      <td>0</td>\n",
       "      <td>0.187505</td>\n",
       "      <td>0</td>\n",
       "    </tr>\n",
       "    <tr>\n",
       "      <th>3</th>\n",
       "      <td>4</td>\n",
       "      <td>16</td>\n",
       "      <td>37</td>\n",
       "      <td>22773</td>\n",
       "      <td>23568</td>\n",
       "      <td>0</td>\n",
       "      <td>48</td>\n",
       "      <td>0.110084</td>\n",
       "      <td>0</td>\n",
       "      <td>1</td>\n",
       "      <td>1</td>\n",
       "      <td>0</td>\n",
       "      <td>0</td>\n",
       "      <td>0.035441</td>\n",
       "      <td>1</td>\n",
       "    </tr>\n",
       "    <tr>\n",
       "      <th>4</th>\n",
       "      <td>5</td>\n",
       "      <td>1</td>\n",
       "      <td>61</td>\n",
       "      <td>7700</td>\n",
       "      <td>8526</td>\n",
       "      <td>0</td>\n",
       "      <td>48</td>\n",
       "      <td>0.123404</td>\n",
       "      <td>0</td>\n",
       "      <td>1</td>\n",
       "      <td>0</td>\n",
       "      <td>1</td>\n",
       "      <td>0</td>\n",
       "      <td>0.340883</td>\n",
       "      <td>0</td>\n",
       "    </tr>\n",
       "  </tbody>\n",
       "</table>\n",
       "</div>"
      ],
      "text/plain": [
       "   ID  Job tenure  Age  Car price  Funding amount  Down payment  \\\n",
       "0   1          34   55       4875            3087             0   \n",
       "1   2           5   29      13000           13000             0   \n",
       "2   3          14   38      17190           14190             0   \n",
       "3   4          16   37      22773           23568             0   \n",
       "4   5           1   61       7700            8526             0   \n",
       "\n",
       "   Loan duration  Monthly payment  Credit event  Married  Homeowner  \\\n",
       "0             36         0.047895             0        1          1   \n",
       "1             60         0.091667             0        0          0   \n",
       "2             60         0.088235             0        0          0   \n",
       "3             48         0.110084             0        1          1   \n",
       "4             48         0.123404             0        1          0   \n",
       "\n",
       "   Default (y)  Pred_default (y_hat)        PD  Group  \n",
       "0            0                     0  0.024480      1  \n",
       "1            1                     0  0.331661      0  \n",
       "2            0                     0  0.187505      0  \n",
       "3            0                     0  0.035441      1  \n",
       "4            1                     0  0.340883      0  "
      ]
     },
     "execution_count": 2,
     "metadata": {},
     "output_type": "execute_result"
    }
   ],
   "source": [
    "data.head()"
   ]
  },
  {
   "cell_type": "markdown",
   "metadata": {},
   "source": [
    "### Split the dataset into features/target variables"
   ]
  },
  {
   "cell_type": "code",
   "execution_count": 3,
   "metadata": {},
   "outputs": [
    {
     "data": {
      "text/html": [
       "<div>\n",
       "<style scoped>\n",
       "    .dataframe tbody tr th:only-of-type {\n",
       "        vertical-align: middle;\n",
       "    }\n",
       "\n",
       "    .dataframe tbody tr th {\n",
       "        vertical-align: top;\n",
       "    }\n",
       "\n",
       "    .dataframe thead th {\n",
       "        text-align: right;\n",
       "    }\n",
       "</style>\n",
       "<table border=\"1\" class=\"dataframe\">\n",
       "  <thead>\n",
       "    <tr style=\"text-align: right;\">\n",
       "      <th></th>\n",
       "      <th>Job tenure</th>\n",
       "      <th>Age</th>\n",
       "      <th>Car price</th>\n",
       "      <th>Funding amount</th>\n",
       "      <th>Down payment</th>\n",
       "      <th>Loan duration</th>\n",
       "      <th>Monthly payment</th>\n",
       "      <th>Credit event</th>\n",
       "      <th>Married</th>\n",
       "      <th>Homeowner</th>\n",
       "    </tr>\n",
       "  </thead>\n",
       "  <tbody>\n",
       "    <tr>\n",
       "      <th>0</th>\n",
       "      <td>34</td>\n",
       "      <td>55</td>\n",
       "      <td>4875</td>\n",
       "      <td>3087</td>\n",
       "      <td>0</td>\n",
       "      <td>36</td>\n",
       "      <td>0.047895</td>\n",
       "      <td>0</td>\n",
       "      <td>1</td>\n",
       "      <td>1</td>\n",
       "    </tr>\n",
       "    <tr>\n",
       "      <th>1</th>\n",
       "      <td>5</td>\n",
       "      <td>29</td>\n",
       "      <td>13000</td>\n",
       "      <td>13000</td>\n",
       "      <td>0</td>\n",
       "      <td>60</td>\n",
       "      <td>0.091667</td>\n",
       "      <td>0</td>\n",
       "      <td>0</td>\n",
       "      <td>0</td>\n",
       "    </tr>\n",
       "    <tr>\n",
       "      <th>2</th>\n",
       "      <td>14</td>\n",
       "      <td>38</td>\n",
       "      <td>17190</td>\n",
       "      <td>14190</td>\n",
       "      <td>0</td>\n",
       "      <td>60</td>\n",
       "      <td>0.088235</td>\n",
       "      <td>0</td>\n",
       "      <td>0</td>\n",
       "      <td>0</td>\n",
       "    </tr>\n",
       "    <tr>\n",
       "      <th>3</th>\n",
       "      <td>16</td>\n",
       "      <td>37</td>\n",
       "      <td>22773</td>\n",
       "      <td>23568</td>\n",
       "      <td>0</td>\n",
       "      <td>48</td>\n",
       "      <td>0.110084</td>\n",
       "      <td>0</td>\n",
       "      <td>1</td>\n",
       "      <td>1</td>\n",
       "    </tr>\n",
       "    <tr>\n",
       "      <th>4</th>\n",
       "      <td>1</td>\n",
       "      <td>61</td>\n",
       "      <td>7700</td>\n",
       "      <td>8526</td>\n",
       "      <td>0</td>\n",
       "      <td>48</td>\n",
       "      <td>0.123404</td>\n",
       "      <td>0</td>\n",
       "      <td>1</td>\n",
       "      <td>0</td>\n",
       "    </tr>\n",
       "  </tbody>\n",
       "</table>\n",
       "</div>"
      ],
      "text/plain": [
       "   Job tenure  Age  Car price  Funding amount  Down payment  Loan duration  \\\n",
       "0          34   55       4875            3087             0             36   \n",
       "1           5   29      13000           13000             0             60   \n",
       "2          14   38      17190           14190             0             60   \n",
       "3          16   37      22773           23568             0             48   \n",
       "4           1   61       7700            8526             0             48   \n",
       "\n",
       "   Monthly payment  Credit event  Married  Homeowner  \n",
       "0         0.047895             0        1          1  \n",
       "1         0.091667             0        0          0  \n",
       "2         0.088235             0        0          0  \n",
       "3         0.110084             0        1          1  \n",
       "4         0.123404             0        1          0  "
      ]
     },
     "execution_count": 3,
     "metadata": {},
     "output_type": "execute_result"
    }
   ],
   "source": [
    "data_features = data.drop(columns=['ID', 'Default (y)', 'Pred_default (y_hat)', 'Group', 'PD'])\n",
    "\n",
    "data_features.head()"
   ]
  },
  {
   "cell_type": "code",
   "execution_count": 4,
   "metadata": {},
   "outputs": [
    {
     "data": {
      "text/plain": [
       "0       0.024480\n",
       "1       0.331661\n",
       "2       0.187505\n",
       "3       0.035441\n",
       "4       0.340883\n",
       "          ...   \n",
       "7425    0.217708\n",
       "7426    0.063937\n",
       "7427    0.630863\n",
       "7428    0.067551\n",
       "7429    0.150553\n",
       "Name: PD, Length: 7430, dtype: float64"
      ]
     },
     "execution_count": 4,
     "metadata": {},
     "output_type": "execute_result"
    }
   ],
   "source": [
    "data_target = data['PD']\n",
    "\n",
    "data_target"
   ]
  },
  {
   "cell_type": "markdown",
   "metadata": {},
   "source": [
    "### Train the surrogate model on PD"
   ]
  },
  {
   "cell_type": "code",
   "execution_count": 5,
   "metadata": {},
   "outputs": [
    {
     "name": "stdout",
     "output_type": "stream",
     "text": [
      "Mean Squared Error (MSE): 0.025167974305639117\n",
      "R-squared: 0.43464725609093446\n"
     ]
    }
   ],
   "source": [
    "from sklearn.linear_model import LinearRegression\n",
    "from sklearn.model_selection import train_test_split\n",
    "from sklearn.metrics import mean_squared_error, r2_score\n",
    "import numpy as np\n",
    "\n",
    "# Initialize the Linear Regression model\n",
    "model = LinearRegression()\n",
    "\n",
    "# Train the model\n",
    "model.fit(data_features, data_target)\n",
    "\n",
    "# Make predictions on the test set\n",
    "y_pred = model.predict(data_features)\n",
    "\n",
    "# Evaluate the model\n",
    "mse = mean_squared_error(data_target, y_pred)\n",
    "r2 = r2_score(data_target, y_pred)\n",
    "\n",
    "# Output the evaluation metrics\n",
    "print(f\"Mean Squared Error (MSE): {mse}\")\n",
    "print(f\"R-squared: {r2}\")"
   ]
  },
  {
   "cell_type": "code",
   "execution_count": 6,
   "metadata": {},
   "outputs": [
    {
     "name": "stdout",
     "output_type": "stream",
     "text": [
      "           Feature  Coefficient\n",
      "6  Monthly payment     0.301764\n",
      "7     Credit event     0.300786\n",
      "4     Down payment     0.077610\n",
      "8          Married    -0.072643\n",
      "9        Homeowner    -0.065734\n",
      "0       Job tenure    -0.003022\n",
      "1              Age    -0.001167\n",
      "5    Loan duration     0.001120\n",
      "3   Funding amount     0.000025\n",
      "2        Car price    -0.000021\n"
     ]
    }
   ],
   "source": [
    "# Create a DataFrame for the coefficients and order by absolute value\n",
    "coefficients = pd.DataFrame({'Feature': data_features.columns, 'Coefficient': model.coef_})\n",
    "coefficients['Abs_Coefficient'] = coefficients['Coefficient'].abs()  # Create column for absolute values\n",
    "coefficients = coefficients.sort_values(by='Abs_Coefficient', ascending=False)  # Sort by absolute values\n",
    "\n",
    "# Print the sorted coefficients\n",
    "print(coefficients[['Feature', 'Coefficient']])"
   ]
  },
  {
   "cell_type": "markdown",
   "metadata": {},
   "source": [
    "Most Important Features:\n",
    "\n",
    "- Monthly payment and Credit event are the most significant factors, both positively impacting the probability of default.\n",
    "\n",
    "- Down payment also contributes positively but to a lesser extent.\n",
    "\n",
    "- Marital status and homeownership decrease the probability of default.\n"
   ]
  },
  {
   "cell_type": "markdown",
   "metadata": {},
   "source": [
    "### Train now a new surrogate model on the output PD of our own CatBoost model"
   ]
  },
  {
   "cell_type": "code",
   "execution_count": 7,
   "metadata": {},
   "outputs": [
    {
     "data": {
      "text/plain": [
       "0       0.854820\n",
       "1       0.690417\n",
       "2       0.803889\n",
       "3       0.842806\n",
       "4       0.655357\n",
       "          ...   \n",
       "7425    0.639712\n",
       "7426    0.668494\n",
       "7427    0.624802\n",
       "7428    0.738861\n",
       "7429    0.724935\n",
       "Name: pred_default, Length: 7430, dtype: float64"
      ]
     },
     "execution_count": 7,
     "metadata": {},
     "output_type": "execute_result"
    }
   ],
   "source": [
    "# Import the results from our own blackbox model\n",
    "data_blackbox = pd.read_csv('../Data/catboost_output')\n",
    "\n",
    "# Only keep the predicted default probabilities\n",
    "output_blackbox = data_blackbox['pred_default']\n",
    "output_blackbox"
   ]
  },
  {
   "cell_type": "code",
   "execution_count": 8,
   "metadata": {},
   "outputs": [
    {
     "name": "stdout",
     "output_type": "stream",
     "text": [
      "Mean Squared Error (MSE): 0.0031279016417306584\n",
      "R-squared: 0.6969325267192541\n"
     ]
    }
   ],
   "source": [
    "# Initialize the Linear Regression model\n",
    "model_own = LinearRegression()\n",
    "\n",
    "# Train the model\n",
    "model_own.fit(data_features, output_blackbox)\n",
    "\n",
    "# Make predictions on the test set\n",
    "y_pred_own = model_own.predict(data_features)\n",
    "\n",
    "# Evaluate the model\n",
    "mse_own = mean_squared_error(output_blackbox, y_pred_own)\n",
    "r2_own = r2_score(output_blackbox, y_pred_own)\n",
    "\n",
    "# Output the evaluation metrics\n",
    "print(f\"Mean Squared Error (MSE): {mse_own}\")\n",
    "print(f\"R-squared: {r2_own}\")"
   ]
  },
  {
   "cell_type": "code",
   "execution_count": 9,
   "metadata": {},
   "outputs": [
    {
     "name": "stdout",
     "output_type": "stream",
     "text": [
      "           Feature  Coefficient\n",
      "6  Monthly payment    -0.304869\n",
      "7     Credit event    -0.117320\n",
      "8          Married     0.059190\n",
      "9        Homeowner     0.056110\n",
      "4     Down payment    -0.029828\n",
      "0       Job tenure     0.002220\n",
      "1              Age     0.000999\n",
      "5    Loan duration    -0.000822\n",
      "3   Funding amount    -0.000007\n",
      "2        Car price     0.000004\n"
     ]
    }
   ],
   "source": [
    "# Create a DataFrame for the coefficients and order by absolute value\n",
    "coefficients_own = pd.DataFrame({'Feature': data_features.columns, 'Coefficient': model_own.coef_})\n",
    "coefficients_own['Abs_Coefficient'] = coefficients_own['Coefficient'].abs()  # Create column for absolute values\n",
    "coefficients_own = coefficients_own.sort_values(by='Abs_Coefficient', ascending=False)  # Sort by absolute values\n",
    "\n",
    "# Print the sorted coefficients\n",
    "print(coefficients_own[['Feature', 'Coefficient']])"
   ]
  }
 ],
 "metadata": {
  "kernelspec": {
   "display_name": "base",
   "language": "python",
   "name": "python3"
  },
  "language_info": {
   "codemirror_mode": {
    "name": "ipython",
    "version": 3
   },
   "file_extension": ".py",
   "mimetype": "text/x-python",
   "name": "python",
   "nbconvert_exporter": "python",
   "pygments_lexer": "ipython3",
   "version": "3.11.4"
  }
 },
 "nbformat": 4,
 "nbformat_minor": 2
}
