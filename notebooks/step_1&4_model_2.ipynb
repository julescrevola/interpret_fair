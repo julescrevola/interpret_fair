{
 "cells": [
  {
   "cell_type": "code",
   "execution_count": 1,
   "metadata": {},
   "outputs": [],
   "source": [
    "import pandas as pd\n",
    "from sklearn.tree import plot_tree\n",
    "from sklearn.tree import DecisionTreeRegressor\n",
    "from sklearn.metrics import r2_score\n",
    "from supertree import SuperTree\n",
    "\n",
    "import matplotlib.pyplot as plt\n",
    "import sys\n",
    "sys.path.append('..')\n",
    "\n",
    "from src.utils_step_1 import *"
   ]
  },
  {
   "cell_type": "code",
   "execution_count": 2,
   "metadata": {},
   "outputs": [],
   "source": [
    "df = pd.read_excel('..\\data\\dataproject2024.xlsx', index_col=0)"
   ]
  },
  {
   "cell_type": "code",
   "execution_count": 3,
   "metadata": {},
   "outputs": [],
   "source": [
    "PATH = '..\\data\\dataproject2024.xlsx'\n",
    "target = 'PD'\n",
    "\n",
    "X, y = load_data(PATH, target)"
   ]
  },
  {
   "cell_type": "code",
   "execution_count": null,
   "metadata": {},
   "outputs": [],
   "source": [
    "X.head()"
   ]
  },
  {
   "cell_type": "code",
   "execution_count": null,
   "metadata": {},
   "outputs": [],
   "source": [
    "model = DecisionTreeRegressor(max_depth=7, random_state=0)\n",
    "model.fit(X, y)\n",
    "\n",
    "r2_score(y, model.predict(X))"
   ]
  },
  {
   "cell_type": "code",
   "execution_count": null,
   "metadata": {},
   "outputs": [],
   "source": [
    "super_tree = SuperTree(model, X, y)\n",
    "\n",
    "super_tree.show_tree()\n",
    "super_tree.save_html('../assets/supertree.html')"
   ]
  },
  {
   "cell_type": "markdown",
   "metadata": {},
   "source": [
    "# Intepretation\n",
    "- `Job tenure` appears to be the most important feature when explaining the model's decisions. The threshold is set at 3.5, and a low job tenure is associated with a higher default risk (group avg. of ~30% versus ~13% for the complementary group)\n",
    "- `Funding amount`, as well as (previous) `Credit event`, also strongly influence the model\n",
    "- A decision tree of `depth = 7` allows to mimick the black box's behaviour with a .58 r2"
   ]
  },
  {
   "cell_type": "markdown",
   "metadata": {},
   "source": [
    "# Surrogate model on black-box"
   ]
  },
  {
   "cell_type": "code",
   "execution_count": null,
   "metadata": {},
   "outputs": [],
   "source": [
    "data_blackbox = pd.read_csv(\"..\\Data\\catboost_output.csv\")\n",
    "data_blackbox.head(5)"
   ]
  },
  {
   "cell_type": "code",
   "execution_count": 8,
   "metadata": {},
   "outputs": [],
   "source": [
    "PATH = '..\\data\\catboost_output'\n",
    "target = 'pred_default'\n",
    "\n",
    "X = data_blackbox.drop([\"y_hat\", \"pred_default\", \"Unnamed: 0\"], axis=1)\n",
    "y = data_blackbox[\"pred_default\"]"
   ]
  },
  {
   "cell_type": "code",
   "execution_count": null,
   "metadata": {},
   "outputs": [],
   "source": [
    "model = DecisionTreeRegressor(max_depth=5, random_state=42)\n",
    "model.fit(X, y)\n",
    "\n",
    "r2_score(y, model.predict(X))\n",
    "\n",
    "# compute mean squared error\n",
    "mse = ((y - model.predict(X))**2).mean()\n",
    "print(f\"Mean squared error: {mse}\")"
   ]
  },
  {
   "cell_type": "code",
   "execution_count": null,
   "metadata": {},
   "outputs": [],
   "source": [
    "super_tree = SuperTree(model, X, y)\n",
    "\n",
    "super_tree.show_tree()\n",
    "super_tree.save_html('../assets/supertree_own_model.html')"
   ]
  },
  {
   "cell_type": "markdown",
   "metadata": {},
   "source": [
    "# Interpretation\n",
    "Interestingly, while most of the main decision drivers are aligned, being `married` has a higher importance in our black-box model."
   ]
  }
 ],
 "metadata": {
  "kernelspec": {
   "display_name": "test",
   "language": "python",
   "name": "python3"
  },
  "language_info": {
   "codemirror_mode": {
    "name": "ipython",
    "version": 3
   },
   "file_extension": ".py",
   "mimetype": "text/x-python",
   "name": "python",
   "nbconvert_exporter": "python",
   "pygments_lexer": "ipython3",
   "version": "3.11.10"
  }
 },
 "nbformat": 4,
 "nbformat_minor": 2
}
