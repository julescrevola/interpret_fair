{
 "cells": [
  {
   "cell_type": "code",
   "execution_count": null,
   "metadata": {},
   "outputs": [],
   "source": [
    "%load_ext autoreload\n",
    "# %autoreload 2"
   ]
  },
  {
   "cell_type": "markdown",
   "metadata": {},
   "source": [
    "# Our own model"
   ]
  },
  {
   "cell_type": "markdown",
   "metadata": {},
   "source": [
    "### We decided to go with catboost as our black-box model as it is better fitted to categorical data such as this one, in which we have to predict whether an individual will default (1) or not (0)."
   ]
  },
  {
   "cell_type": "code",
   "execution_count": 66,
   "metadata": {},
   "outputs": [],
   "source": [
    "import pandas as pd\n",
    "from pathlib import Path"
   ]
  },
  {
   "cell_type": "code",
   "execution_count": null,
   "metadata": {},
   "outputs": [],
   "source": [
    "path = Path(\"../Data/dataproject2024.xlsx\")\n",
    "df = pd.read_excel(path)\n",
    "print(df.info())\n",
    "df"
   ]
  },
  {
   "cell_type": "code",
   "execution_count": 68,
   "metadata": {},
   "outputs": [],
   "source": [
    "from sklearn.model_selection import train_test_split\n",
    "\n",
    "X = df.drop([\"ID\", \"Default (y)\", \"Pred_default (y_hat)\", \"PD\", \"Group\"], axis=1)\n",
    "y = df[\"Default (y)\"]\n",
    "\n",
    "X_train, X_test, y_train, y_test = train_test_split(X, y, test_size=0.15, random_state=42)"
   ]
  },
  {
   "cell_type": "code",
   "execution_count": null,
   "metadata": {},
   "outputs": [],
   "source": [
    "from catboost import CatBoostClassifier\n",
    "\n",
    "cat_model = CatBoostClassifier(iterations=20, depth=10, learning_rate=0.1, loss_function=\"Logloss\", verbose=False)\n",
    "cat_model.fit(X_train, y_train)"
   ]
  },
  {
   "cell_type": "code",
   "execution_count": 70,
   "metadata": {},
   "outputs": [],
   "source": [
    "y_pred_class = cat_model.predict(X_test)\n",
    "y_pred_prob = cat_model.predict_proba(X_test)[:,1]"
   ]
  },
  {
   "cell_type": "code",
   "execution_count": null,
   "metadata": {},
   "outputs": [],
   "source": [
    "df_pred = pd.DataFrame([y_pred_class, y_pred_prob]).transpose()\n",
    "df_pred = df_pred.rename(columns={0: \"y_hat\", 1:\"prob_default\"})\n",
    "df_pred = df_pred.astype({\"y_hat\": int})\n",
    "df_pred"
   ]
  },
  {
   "cell_type": "code",
   "execution_count": null,
   "metadata": {},
   "outputs": [],
   "source": [
    "from sklearn.metrics import accuracy_score\n",
    "\n",
    "acc_cat = accuracy_score(df_pred[\"y_hat\"], y_test)\n",
    "acc_init_model = accuracy_score(df[\"Default (y)\"], df[\"Pred_default (y_hat)\"])\n",
    "\n",
    "print(f'The accuracy with a CatboostClassifier model is {acc_cat: .3f}, whereas the accuracy of the initial model was {acc_init_model: .3f}.')"
   ]
  },
  {
   "cell_type": "code",
   "execution_count": 73,
   "metadata": {},
   "outputs": [],
   "source": [
    "cat_model.save_model(\"../assets/cat_boost_model\")"
   ]
  },
  {
   "cell_type": "markdown",
   "metadata": {},
   "source": [
    "### Saving the predictions for the whole dataframe to build surrogates model for it"
   ]
  },
  {
   "cell_type": "code",
   "execution_count": null,
   "metadata": {},
   "outputs": [],
   "source": [
    "y_pred_prob_total = cat_model.predict_proba(X)[:,1]\n",
    "y_pred_class_total = cat_model.predict(X)\n",
    "df_pred_total = pd.DataFrame([y_pred_class_total, y_pred_prob_total]).transpose()\n",
    "df_pred_total = df_pred_total.rename(columns={0: \"y_hat\", 1:\"pred_default\"})\n",
    "df_pred_total = df_pred_total.astype({\"y_hat\": int})\n",
    "df_pred_total"
   ]
  },
  {
   "cell_type": "code",
   "execution_count": null,
   "metadata": {},
   "outputs": [],
   "source": [
    "df_total = pd.concat([X, df_pred_total], axis=1)\n",
    "df_total"
   ]
  },
  {
   "cell_type": "code",
   "execution_count": 76,
   "metadata": {},
   "outputs": [],
   "source": [
    "df_total.to_csv(\"../Data/catboost_output.csv\")"
   ]
  },
  {
   "cell_type": "code",
   "execution_count": null,
   "metadata": {},
   "outputs": [],
   "source": [
    "import sys\n",
    "sys.path.append(\"..\")\n",
    "\n",
    "from src.shap import draw_shap_summary\n",
    "draw_shap_summary(model=cat_model, data=X_train, model_name=\"cat_model\")"
   ]
  },
  {
   "cell_type": "code",
   "execution_count": null,
   "metadata": {},
   "outputs": [],
   "source": [
    "from src.pdp_ice import draw_pdp_ice_graphs\n",
    "draw_pdp_ice_graphs(model=cat_model, data=X_train, model_name=\"cat_model\", variables=[\"Job tenure\", \"Homeowner\"])"
   ]
  },
  {
   "cell_type": "code",
   "execution_count": null,
   "metadata": {},
   "outputs": [],
   "source": [
    "from src.part8 import xper_method\n",
    "\n",
    "df2 = df.sample(500).drop([\"ID\", \"Pred_default (y_hat)\", \"PD\", \"Group\"], axis=1)\n",
    "X_filtered = df2.drop(\"Default (y)\", axis=1)\n",
    "y_filtered = df2[\"Default (y)\"]\n",
    " \n",
    "X_train_filt, X_test_filt, y_train_filt, y_test_filt = train_test_split(X_filtered, y_filtered, test_size=0.15, random_state=42)\n",
    "\n",
    "xper_method(model=cat_model, eval_metric=\"Accuracy\", dataset=df2, target_col=\"Default (y)\", X_train=X_train_filt, y_train=y_train_filt, X_test=X_test_filt, y_test=y_test_filt)"
   ]
  }
 ],
 "metadata": {
  "kernelspec": {
   "display_name": "test",
   "language": "python",
   "name": "python3"
  },
  "language_info": {
   "codemirror_mode": {
    "name": "ipython",
    "version": 3
   },
   "file_extension": ".py",
   "mimetype": "text/x-python",
   "name": "python",
   "nbconvert_exporter": "python",
   "pygments_lexer": "ipython3",
   "version": "3.11.10"
  }
 },
 "nbformat": 4,
 "nbformat_minor": 2
}
